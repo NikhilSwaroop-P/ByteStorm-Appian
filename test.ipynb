{
 "cells": [
  {
   "cell_type": "code",
   "execution_count": 4,
   "id": "884bdd70",
   "metadata": {},
   "outputs": [
    {
     "data": {
      "text/plain": [
       "0.8662704309063893"
      ]
     },
     "execution_count": 4,
     "metadata": {},
     "output_type": "execute_result"
    }
   ],
   "source": [
    "import pandas as pd\n",
    "import numpy as np\n",
    "import os\n",
    "\n",
    "df1 = pd.read_csv('MLP_embed-86.csv')\n",
    "df2 = pd.read_csv('output (2).csv')\n",
    "df1 = df1.sort_values(by=['ID'], ignore_index=True)\n",
    "df2 = df2.sort_values(by=['ID'], ignore_index=True)\n",
    "(df1['Target'] == df2['target']).mean()"
   ]
  },
  {
   "cell_type": "code",
   "execution_count": null,
   "id": "da7db0fc",
   "metadata": {},
   "outputs": [],
   "source": []
  }
 ],
 "metadata": {
  "kernelspec": {
   "display_name": "env_torch",
   "language": "python",
   "name": "python3"
  },
  "language_info": {
   "codemirror_mode": {
    "name": "ipython",
    "version": 3
   },
   "file_extension": ".py",
   "mimetype": "text/x-python",
   "name": "python",
   "nbconvert_exporter": "python",
   "pygments_lexer": "ipython3",
   "version": "3.11.9"
  }
 },
 "nbformat": 4,
 "nbformat_minor": 5
}
